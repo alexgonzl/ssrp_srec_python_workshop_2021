{
  "nbformat": 4,
  "nbformat_minor": 0,
  "metadata": {
    "colab": {
      "name": "day3_python_basics_ssrp_srec_2021.ipynb",
      "provenance": [],
      "collapsed_sections": [],
      "authorship_tag": "ABX9TyP7Fu/i6I1z8zY/IUNsxNXx",
      "include_colab_link": true
    },
    "kernelspec": {
      "name": "python3",
      "display_name": "Python 3"
    },
    "language_info": {
      "name": "python"
    }
  },
  "cells": [
    {
      "cell_type": "markdown",
      "metadata": {
        "id": "view-in-github",
        "colab_type": "text"
      },
      "source": [
        "<a href=\"https://colab.research.google.com/github/alexgonzl/ssrp_srec_python_workshop_2021/blob/master/day3_python_basics_ssrp_srec_2021.ipynb\" target=\"_parent\"><img src=\"https://colab.research.google.com/assets/colab-badge.svg\" alt=\"Open In Colab\"/></a>"
      ]
    },
    {
      "cell_type": "markdown",
      "metadata": {
        "id": "kOO1t_y5Oq-D"
      },
      "source": [
        "# SSRP/SREC Instructor Notebook\n",
        "\n",
        "*   Date: D3-June 16,2021\n",
        "*   Software Carpentry: https://swcarpentry.github.io/python-novice-gapminder/02-variables/index.html\n",
        "\n"
      ]
    },
    {
      "cell_type": "markdown",
      "metadata": {
        "id": "mLRk_XxrPFIq"
      },
      "source": [
        "## 1. Data Types, Variables, Assigmnent"
      ]
    },
    {
      "cell_type": "markdown",
      "metadata": {
        "id": "0S5zLnV3QRzQ"
      },
      "source": [
        "### Use Variables to store values."
      ]
    },
    {
      "cell_type": "markdown",
      "metadata": {
        "id": "bS7u4RIvPdYU"
      },
      "source": [
        "* Variables are names for values.\n",
        "*  In Python the = symbol assigns the value on the right to the name on the left.\n",
        "* The variable is created when a value is assigned to it.\n",
        "* Here, Python assigns an age to a variable age and a name in quotes to a variable first_name.\n",
        "\n"
      ]
    },
    {
      "cell_type": "code",
      "metadata": {
        "id": "e2TVQ_lyORs0"
      },
      "source": [
        "# assignment:\n",
        "age = 42\n",
        "first_name = 'Ahmed'"
      ],
      "execution_count": 1,
      "outputs": []
    },
    {
      "cell_type": "markdown",
      "metadata": {
        "id": "fEd5sSxjQCK3"
      },
      "source": [
        "Variable names\n",
        "\n",
        "> * can **only** contain letters, digits, and underscore _ (typically used to separate words in long variable names)\n",
        "> * cannot start with a digit\n",
        "> * are **case sensitive** (age, Age and AGE are three different variables)\n",
        "\n",
        "Variable names *that* start with underscores like ```__alistairs_real_age``` have a special meaning so we won’t do that until we understand the convention."
      ]
    },
    {
      "cell_type": "markdown",
      "metadata": {
        "id": "l_rvb8oSQdha"
      },
      "source": [
        "### Use ```print``` to display values.\n",
        "\n"
      ]
    },
    {
      "cell_type": "markdown",
      "metadata": {
        "id": "A6mXsLURRfJ2"
      },
      "source": [
        "*   Python has a built-in function called `print` that prints things as text.\n",
        "*   Call the function (i.e., tell Python to run it) by using its name.\n",
        "*   Provide values to the function (i.e., the things to print) in parentheses.\n",
        "*   To add a string to the printout, wrap the string in single or double quotes.\n",
        "*   The values passed to the function are called **arguments**"
      ]
    },
    {
      "cell_type": "code",
      "metadata": {
        "colab": {
          "base_uri": "https://localhost:8080/"
        },
        "id": "PyeIQ6D3PXz0",
        "outputId": "363abb9a-2666-4b3f-a001-b1bbdde7931b"
      },
      "source": [
        "print(first_name, 'is', age, 'years old')"
      ],
      "execution_count": 2,
      "outputs": [
        {
          "output_type": "stream",
          "text": [
            "Ahmed is 42 years old\n"
          ],
          "name": "stdout"
        }
      ]
    },
    {
      "cell_type": "markdown",
      "metadata": {
        "id": "cAipyGBERlYz"
      },
      "source": [
        "\n",
        "*   `print` automatically puts a single space between items to separate them.\n",
        "*   And wraps around to a new line at the end.\n"
      ]
    },
    {
      "cell_type": "markdown",
      "metadata": {
        "id": "SFZvM4oTOeFl"
      },
      "source": [
        "### Variables must be created before they are used.\n",
        "*   If a variable doesn't exist yet, or if the name has been mis-spelled, Python reports an error. (Unlike some languages, which \"guess\" a default value.)"
      ]
    },
    {
      "cell_type": "code",
      "metadata": {
        "colab": {
          "base_uri": "https://localhost:8080/",
          "height": 172
        },
        "id": "YFgHnPCiOyeo",
        "outputId": "4b8e1e97-6d5f-4786-89c2-12cba3e7538d"
      },
      "source": [
        "print(last_name)"
      ],
      "execution_count": 3,
      "outputs": [
        {
          "output_type": "error",
          "ename": "NameError",
          "evalue": "ignored",
          "traceback": [
            "\u001b[0;31m---------------------------------------------------------------------------\u001b[0m",
            "\u001b[0;31mNameError\u001b[0m                                 Traceback (most recent call last)",
            "\u001b[0;32m<ipython-input-3-a637c5453549>\u001b[0m in \u001b[0;36m<module>\u001b[0;34m()\u001b[0m\n\u001b[0;32m----> 1\u001b[0;31m \u001b[0mprint\u001b[0m\u001b[0;34m(\u001b[0m\u001b[0mlast_name\u001b[0m\u001b[0;34m)\u001b[0m\u001b[0;34m\u001b[0m\u001b[0;34m\u001b[0m\u001b[0m\n\u001b[0m",
            "\u001b[0;31mNameError\u001b[0m: name 'last_name' is not defined"
          ]
        }
      ]
    },
    {
      "cell_type": "markdown",
      "metadata": {
        "id": "C_Pa69FIR198"
      },
      "source": [
        "*   The last line of an error message is usually the most informative."
      ]
    },
    {
      "cell_type": "markdown",
      "metadata": {
        "id": "eYrUCcMbSHmd"
      },
      "source": [
        "### Variables Persist Between Cells\n",
        ">\n",
        "> Be aware that it is the *order* of execution of cells that is important in a Jupyter notebook, not the order in which they appear. Python will remember *all* the code that was run previously, including any variables you have defined, irrespective of the order in the notebook. Therefore if you define variables lower down the notebook and then (re)run cells further up, those defined further down will still be present. As an example, create two cells with the following content, in this order:"
      ]
    },
    {
      "cell_type": "code",
      "metadata": {
        "colab": {
          "base_uri": "https://localhost:8080/",
          "height": 172
        },
        "id": "V1VJA7GxR1AE",
        "outputId": "f5d056c5-d754-47df-95fb-894e465f8f0b"
      },
      "source": [
        "print(myval)"
      ],
      "execution_count": 4,
      "outputs": [
        {
          "output_type": "error",
          "ename": "NameError",
          "evalue": "ignored",
          "traceback": [
            "\u001b[0;31m---------------------------------------------------------------------------\u001b[0m",
            "\u001b[0;31mNameError\u001b[0m                                 Traceback (most recent call last)",
            "\u001b[0;32m<ipython-input-4-7b59df88f2b1>\u001b[0m in \u001b[0;36m<module>\u001b[0;34m()\u001b[0m\n\u001b[0;32m----> 1\u001b[0;31m \u001b[0mprint\u001b[0m\u001b[0;34m(\u001b[0m\u001b[0mmyval\u001b[0m\u001b[0;34m)\u001b[0m\u001b[0;34m\u001b[0m\u001b[0;34m\u001b[0m\u001b[0m\n\u001b[0m",
            "\u001b[0;31mNameError\u001b[0m: name 'myval' is not defined"
          ]
        }
      ]
    },
    {
      "cell_type": "code",
      "metadata": {
        "colab": {
          "base_uri": "https://localhost:8080/"
        },
        "id": "c1TuJii5SaoL",
        "outputId": "5c918137-bc38-466d-8fdb-f4392e583616"
      },
      "source": [
        "myval=1\n",
        "print(myval)"
      ],
      "execution_count": 5,
      "outputs": [
        {
          "output_type": "stream",
          "text": [
            "1\n"
          ],
          "name": "stdout"
        }
      ]
    },
    {
      "cell_type": "markdown",
      "metadata": {
        "id": "p8n4VwobTz0q"
      },
      "source": [
        "### Variables can be used in calculations.\n",
        "*   We can use variables in calculations just as if they were values.\n",
        "*   Remember, we assigned the value `42` to `age` a few lines ago.\n"
      ]
    },
    {
      "cell_type": "code",
      "metadata": {
        "colab": {
          "base_uri": "https://localhost:8080/"
        },
        "id": "7LzxCY1GSiXj",
        "outputId": "aea6ea12-bde0-46cd-e940-be79112722e4"
      },
      "source": [
        "age = age + 3\n",
        "print(\"Age in three years: \", age)"
      ],
      "execution_count": 6,
      "outputs": [
        {
          "output_type": "stream",
          "text": [
            "Age in three years:  45\n"
          ],
          "name": "stdout"
        }
      ]
    },
    {
      "cell_type": "code",
      "metadata": {
        "colab": {
          "base_uri": "https://localhost:8080/"
        },
        "id": "4D9IGa4iVeop",
        "outputId": "0744aaf1-efe8-4b74-baf1-d2aeeedb2131"
      },
      "source": [
        "#another way to accomplish the same.\n",
        "print(f\"Age in 5 more years {age+5}, and current age {age}\")"
      ],
      "execution_count": 7,
      "outputs": [
        {
          "output_type": "stream",
          "text": [
            "Age in 5 more years 50, and current age 45\n"
          ],
          "name": "stdout"
        }
      ]
    },
    {
      "cell_type": "markdown",
      "metadata": {
        "id": "MlR2ICRDV_d2"
      },
      "source": [
        "## Use an index to get a single character from a string.\n",
        "\n",
        "*   The characters (individual letters, numbers, and so on) in a string are ordered. For example, the string `'AB'` is not the same as `'BA'`. Because of this ordering, we can treat the string as a list of characters.\n",
        "*   Each position in the string (first, second, etc.) is given a number. This number is called an **index** or sometimes a subscript.\n",
        "*   Indices are numbered from 0.\n",
        "*   Use the position's index in square brackets to get the character at that position."
      ]
    },
    {
      "cell_type": "code",
      "metadata": {
        "colab": {
          "base_uri": "https://localhost:8080/"
        },
        "id": "yQqBCURnVtCS",
        "outputId": "b2941343-8996-4e85-d2b8-558d28ee9db0"
      },
      "source": [
        "atom_name = 'helium'\n",
        "print(atom_name[0])"
      ],
      "execution_count": 8,
      "outputs": [
        {
          "output_type": "stream",
          "text": [
            "h\n"
          ],
          "name": "stdout"
        }
      ]
    },
    {
      "cell_type": "markdown",
      "metadata": {
        "id": "rH830fO6WPva"
      },
      "source": [
        "### Use a slice to get a substring.\n",
        "\n",
        "*   A part of a string is called a **substring**. A substring can be as short as a single character.\n",
        "*   An item in a list is called an element. Whenever we treat a string as if it were a list, the string's elements are its individual characters.\n",
        "*   A slice is a part of a string (or, more generally, any list-like thing).\n",
        "*   We take a slice by using `[start:stop]`, where `start` is replaced with the index of the first element we want and `stop` is replaced with the index of the element just after the last element we want.\n",
        "*   Mathematically, you might say that a slice selects `[start:stop)`.\n",
        "*   The difference between `stop` and `start` is the slice's length.\n",
        "*   Taking a slice does not change the contents of the original string. Instead, the slice is a copy of part of the original string."
      ]
    },
    {
      "cell_type": "code",
      "metadata": {
        "colab": {
          "base_uri": "https://localhost:8080/"
        },
        "id": "HBeaMjeWWNwk",
        "outputId": "f337d30a-a6e5-4763-b897-8b27b2dd63a6"
      },
      "source": [
        "atom_name = 'sodium'\n",
        "print(atom_name[0:3])"
      ],
      "execution_count": 9,
      "outputs": [
        {
          "output_type": "stream",
          "text": [
            "sod\n"
          ],
          "name": "stdout"
        }
      ]
    },
    {
      "cell_type": "markdown",
      "metadata": {
        "id": "ecp0kyBZWcRA"
      },
      "source": [
        "### Use the built-in function `len` to find the length of a string."
      ]
    },
    {
      "cell_type": "code",
      "metadata": {
        "colab": {
          "base_uri": "https://localhost:8080/"
        },
        "id": "ZV6uxs9WX6-v",
        "outputId": "e05ec575-de96-4409-951e-10ea7c004c1e"
      },
      "source": [
        "print(len(atom_name))"
      ],
      "execution_count": 10,
      "outputs": [
        {
          "output_type": "stream",
          "text": [
            "6\n"
          ],
          "name": "stdout"
        }
      ]
    },
    {
      "cell_type": "markdown",
      "metadata": {
        "id": "j_wI_pHpWcWz"
      },
      "source": [
        "*   Nested functions are evaluated from the inside out,\n",
        "     like in mathematics.\n",
        "\n",
        "### Python is case-sensitive.\n",
        "\n",
        "*   Python thinks that upper- and lower-case letters are different, so `Name` and `name` are different variables.\n",
        "*   There are conventions for using upper-case letters at the start of variable names so we will use lower-case letters for now.\n",
        "\n",
        "### Use meaningful variable names.\n",
        "\n",
        "*   Python doesn't care what you call variables as long as they obey the rules(alphanumeric characters and the underscore)."
      ]
    },
    {
      "cell_type": "code",
      "metadata": {
        "id": "brUAa2YyWcZH",
        "colab": {
          "base_uri": "https://localhost:8080/"
        },
        "outputId": "fa8e8293-1314-467d-c421-dd8f369a0fa8"
      },
      "source": [
        "flabadab = 42\n",
        "ewr_422_yY = 'Ahmed'\n",
        "print(ewr_422_yY, 'is', flabadab, 'years old')"
      ],
      "execution_count": 11,
      "outputs": [
        {
          "output_type": "stream",
          "text": [
            "Ahmed is 42 years old\n"
          ],
          "name": "stdout"
        }
      ]
    },
    {
      "cell_type": "markdown",
      "metadata": {
        "id": "p_iTaQNlWcbm"
      },
      "source": [
        "\n",
        "*   Use meaningful variable names to help other people understand what the program does.\n",
        "*   The most important \"other person\" is your future self.\n",
        "\n",
        "\n",
        "### Swapping Values\n",
        "\n",
        "Fill the table showing the values of the variables in this program *after* each statement is executed."
      ]
    },
    {
      "cell_type": "code",
      "metadata": {
        "id": "wH7_9XjtWcd2"
      },
      "source": [
        "# Command  # Value of x   # Value of y   # Value of swap #\n",
        "x = 1.0    #              #              #               #\n",
        "y = 3.0    #              #              #               #\n",
        "swap = x   #              #              #               #\n",
        "x = y      #              #              #               #\n",
        "y = swap   #              #              #               #"
      ],
      "execution_count": 12,
      "outputs": []
    },
    {
      "cell_type": "code",
      "metadata": {
        "colab": {
          "base_uri": "https://localhost:8080/"
        },
        "cellView": "form",
        "id": "TdYhr1K_a0_j",
        "outputId": "a767e717-41d2-40ca-83af-309bfd5d3b86"
      },
      "source": [
        "#@title Solution\n",
        "x = 1.0\n",
        "print(f\"x = {x}, y = undefined, swap = undefined\")\n",
        "y = 3.0\n",
        "print(f\"x = {x}, y = {y}, swap = undefined\")\n",
        "swap =x\n",
        "print(f\"x = {x}, y = {y}, swap = {swap}\")\n",
        "x = y\n",
        "print(f\"x = {x}, y = {y}, swap = {swap}\")\n",
        "y = swap\n",
        "print(f\"x = {x}, y = {y}, swap = {swap}\")\n",
        "\n",
        "print()\n",
        "print(\"\"\"These three lines exchange the values in `x` and `y` using the `swap` \n",
        "variable for temporary storage. This is a fairly common programming idiom.\"\"\")"
      ],
      "execution_count": 13,
      "outputs": [
        {
          "output_type": "stream",
          "text": [
            "x = 1.0, y = undefined, swap = undefined\n",
            "x = 1.0, y = 3.0, swap = undefined\n",
            "x = 1.0, y = 3.0, swap = 1.0\n",
            "x = 3.0, y = 3.0, swap = 1.0\n",
            "x = 3.0, y = 1.0, swap = 1.0\n",
            "\n",
            "These three lines exchange the values in `x` and `y` using the `swap` \n",
            "variable for temporary storage. This is a fairly common programming idiom.\n"
          ],
          "name": "stdout"
        }
      ]
    },
    {
      "cell_type": "markdown",
      "metadata": {
        "id": "4jPGnpMvWchM"
      },
      "source": [
        ""
      ]
    },
    {
      "cell_type": "markdown",
      "metadata": {
        "id": "Knzy3B8mWa6R"
      },
      "source": [
        "## Predicting Values\n",
        "\n",
        "What is the final value of `position` in the program below?\n",
        "(Try to predict the value without running the program, then check your prediction.)"
      ]
    },
    {
      "cell_type": "code",
      "metadata": {
        "id": "lhsP_JWyeVs0"
      },
      "source": [
        "initial = 'left'\n",
        "position = initial\n",
        "initial = 'right'"
      ],
      "execution_count": 14,
      "outputs": []
    },
    {
      "cell_type": "code",
      "metadata": {
        "colab": {
          "base_uri": "https://localhost:8080/"
        },
        "cellView": "form",
        "id": "txF-cIS_kLhL",
        "outputId": "daf31844-1763-479e-ca34-b772a6b87452"
      },
      "source": [
        "#@title Solution\n",
        "print(f\"'position' has value {position}\")\n",
        "\n",
        "print()\n",
        "print(\"\"\"The `initial` variable is assigned the value `'left'`. In the second \n",
        "line, the `position` variable also receives the string value `'left'`. In third\n",
        "line, the `initial` variable is given the value `'right'`, but the `position` \n",
        "variable retains its string value of `'left'`.\"\"\")"
      ],
      "execution_count": 15,
      "outputs": [
        {
          "output_type": "stream",
          "text": [
            "'position' has value left\n",
            "\n",
            "The `initial` variable is assigned the value `'left'`. In the second \n",
            "line, the `position` variable also receives the string value `'left'`. In third\n",
            "line, the `initial` variable is given the value `'right'`, but the `position` \n",
            "variable retains its string value of `'left'`.\n"
          ],
          "name": "stdout"
        }
      ]
    },
    {
      "cell_type": "markdown",
      "metadata": {
        "id": "_NM3FHZWeqoz"
      },
      "source": [
        "### Challenge\n",
        "\n",
        "> If you assign `a = 123`,\n",
        "> what happens if you try to get the second digit of `a` via `a[1]`?\n",
        "\n"
      ]
    },
    {
      "cell_type": "code",
      "metadata": {
        "id": "YkXw1biMfuWO",
        "colab": {
          "base_uri": "https://localhost:8080/"
        },
        "cellView": "form",
        "outputId": "1b2d506d-fc46-4a87-9476-e887d33d681a"
      },
      "source": [
        "#@title Solution\n",
        "print(\"\"\"Numbers are not strings or sequences and Python will raise an error if \n",
        "you try to perform an index operation on a number. In the [next lesson on types \n",
        "and type conversion] we will learn more about types and how to convert between \n",
        "different types. If you want the Nth digit of a number you can convert it into a\n",
        "string using the `str` built-in function and then perform an index operation on \n",
        "that string.\"\"\")"
      ],
      "execution_count": 16,
      "outputs": [
        {
          "output_type": "stream",
          "text": [
            "Numbers are not strings or sequences and Python will raise an error if \n",
            "you try to perform an index operation on a number. In the [next lesson on types \n",
            "and type conversion] we will learn more about types and how to convert between \n",
            "different types. If you want the Nth digit of a number you can convert it into a\n",
            "string using the `str` built-in function and then perform an index operation on \n",
            "that string.\n"
          ],
          "name": "stdout"
        }
      ]
    },
    {
      "cell_type": "code",
      "metadata": {
        "colab": {
          "base_uri": "https://localhost:8080/",
          "height": 191
        },
        "id": "HUeVdcmmgeVl",
        "outputId": "b557c49f-f905-43ef-e875-5c109eae2f2b"
      },
      "source": [
        "a=123\n",
        "print(a[1])"
      ],
      "execution_count": 17,
      "outputs": [
        {
          "output_type": "error",
          "ename": "TypeError",
          "evalue": "ignored",
          "traceback": [
            "\u001b[0;31m---------------------------------------------------------------------------\u001b[0m",
            "\u001b[0;31mTypeError\u001b[0m                                 Traceback (most recent call last)",
            "\u001b[0;32m<ipython-input-17-574e55b98409>\u001b[0m in \u001b[0;36m<module>\u001b[0;34m()\u001b[0m\n\u001b[1;32m      1\u001b[0m \u001b[0ma\u001b[0m\u001b[0;34m=\u001b[0m\u001b[0;36m123\u001b[0m\u001b[0;34m\u001b[0m\u001b[0;34m\u001b[0m\u001b[0m\n\u001b[0;32m----> 2\u001b[0;31m \u001b[0mprint\u001b[0m\u001b[0;34m(\u001b[0m\u001b[0ma\u001b[0m\u001b[0;34m[\u001b[0m\u001b[0;36m1\u001b[0m\u001b[0;34m]\u001b[0m\u001b[0;34m)\u001b[0m\u001b[0;34m\u001b[0m\u001b[0;34m\u001b[0m\u001b[0m\n\u001b[0m",
            "\u001b[0;31mTypeError\u001b[0m: 'int' object is not subscriptable"
          ]
        }
      ]
    },
    {
      "cell_type": "markdown",
      "metadata": {
        "id": "RO4FCtdMmJGK"
      },
      "source": [
        "### Choosing a Name\n",
        ">\n",
        "> Which is a better variable name, `m`, `min`, or `minutes`?\n",
        "> Why?\n",
        "> Hint: think about which code you would rather inherit\n",
        "> from someone who is leaving the lab:\n",
        ">\n",
        "> 1. `ts = m * 60 + s`\n",
        "> 2. `tot_sec = min * 60 + sec`\n",
        "> 3. `total_seconds = minutes * 60 + seconds`"
      ]
    },
    {
      "cell_type": "code",
      "metadata": {
        "colab": {
          "base_uri": "https://localhost:8080/"
        },
        "cellView": "form",
        "id": "uFkXjQqzmcEj",
        "outputId": "1509de70-6819-4586-f786-9e74d1a0e759"
      },
      "source": [
        "#@title Solution\n",
        "print(\"\"\"`minutes` is better because `min` might mean something like \"minimum\"\n",
        "(and actually is an existing built-in function in Python that we will cover later)\n",
        "\"\"\")"
      ],
      "execution_count": 18,
      "outputs": [
        {
          "output_type": "stream",
          "text": [
            "`minutes` is better because `min` might mean something like \"minimum\"\n",
            "(and actually is an existing built-in function in Python that we will cover later)\n",
            "\n"
          ],
          "name": "stdout"
        }
      ]
    },
    {
      "cell_type": "markdown",
      "metadata": {
        "id": "sHgEFRJnmqJv"
      },
      "source": [
        "### Slicing practice\n",
        ">\n",
        "> What does the following program print?"
      ]
    },
    {
      "cell_type": "code",
      "metadata": {
        "colab": {
          "base_uri": "https://localhost:8080/"
        },
        "id": "Vr3u9lKYm4dj",
        "outputId": "922926a1-616c-4d6b-a6f2-165e3ebc0b04"
      },
      "source": [
        "atom_name = 'carbon'\n",
        "print('atom_name[1:3] is:', atom_name[1:3])"
      ],
      "execution_count": 19,
      "outputs": [
        {
          "output_type": "stream",
          "text": [
            "atom_name[1:3] is: ar\n"
          ],
          "name": "stdout"
        }
      ]
    },
    {
      "cell_type": "markdown",
      "metadata": {
        "id": "GQ82wfQfm861"
      },
      "source": [
        "> ## Slicing concepts\n",
        ">\n",
        "> 1.  What does `thing[low:high]` do?\n",
        "> 2.  What does `thing[low:]` (without a value after the colon) do?\n",
        "> 3.  What does `thing[:high]` (without a value before the colon) do?\n",
        "> 4.  What does `thing[:]` (just a colon) do?\n",
        "> 5.  What does `thing[number:some-negative-number]` do?\n",
        "> 6.  What happens when you choose a `high` value which is out of range? (i.e., try `atom_name[0:15]`)"
      ]
    },
    {
      "cell_type": "code",
      "metadata": {
        "colab": {
          "base_uri": "https://localhost:8080/"
        },
        "cellView": "form",
        "id": "7M-U6LUInGvc",
        "outputId": "beb4435d-a38d-4b8f-ec91-5d7e688b82a5"
      },
      "source": [
        "#@title Solution\n",
        "print(\"\"\" \n",
        "1. `thing[low:high]` returns a slice from `low` to the value before `high`\n",
        "2. `thing[low:]` returns a slice from `low` all the way to the end of `thing`\n",
        "3. `thing[:high]` returns a slice from the beginning of `thing` to the value before `high`\n",
        "4. `thing[:]` returns all of `thing`\n",
        "5. `thing[number:some-negative-number]` returns a slice from `number` to \n",
        "`some-negative-number` values from the end of `thing`\n",
        "6. If a part of the slice is out of range, the operation does not fail. \n",
        "`atom_name[0:15]` gives the same result as `atom_name[0:]`.\n",
        "\"\"\")"
      ],
      "execution_count": 20,
      "outputs": [
        {
          "output_type": "stream",
          "text": [
            " \n",
            "1. `thing[low:high]` returns a slice from `low` to the value before `high`\n",
            "2. `thing[low:]` returns a slice from `low` all the way to the end of `thing`\n",
            "3. `thing[:high]` returns a slice from the beginning of `thing` to the value before `high`\n",
            "4. `thing[:]` returns all of `thing`\n",
            "5. `thing[number:some-negative-number]` returns a slice from `number` to \n",
            "`some-negative-number` values from the end of `thing`\n",
            "6. If a part of the slice is out of range, the operation does not fail. \n",
            "`atom_name[0:15]` gives the same result as `atom_name[0:]`.\n",
            "\n"
          ],
          "name": "stdout"
        }
      ]
    },
    {
      "cell_type": "code",
      "metadata": {
        "id": "AAuiBAH5ngHz"
      },
      "source": [
        ""
      ],
      "execution_count": null,
      "outputs": []
    }
  ]
}